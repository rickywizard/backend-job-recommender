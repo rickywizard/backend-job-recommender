{
  "nbformat": 4,
  "nbformat_minor": 0,
  "metadata": {
    "colab": {
      "provenance": []
    },
    "kernelspec": {
      "name": "python3",
      "display_name": "Python 3"
    },
    "language_info": {
      "name": "python"
    }
  },
  "cells": [
    {
      "cell_type": "markdown",
      "source": [
        "Import Data"
      ],
      "metadata": {
        "id": "WA2lKD2H8GWa"
      }
    },
    {
      "cell_type": "code",
      "execution_count": null,
      "metadata": {
        "id": "Vfscxna2l4Xo",
        "colab": {
          "base_uri": "https://localhost:8080/"
        },
        "outputId": "02affefd-5cb6-4197-836b-c7f6c48ecded"
      },
      "outputs": [
        {
          "output_type": "stream",
          "name": "stderr",
          "text": [
            "[nltk_data] Downloading package punkt to /root/nltk_data...\n",
            "[nltk_data]   Package punkt is already up-to-date!\n",
            "[nltk_data] Downloading package stopwords to /root/nltk_data...\n",
            "[nltk_data]   Package stopwords is already up-to-date!\n"
          ]
        },
        {
          "output_type": "execute_result",
          "data": {
            "text/plain": [
              "True"
            ]
          },
          "metadata": {},
          "execution_count": 18
        }
      ],
      "source": [
        "import pandas as pd\n",
        "from sklearn.feature_extraction.text import TfidfVectorizer\n",
        "from sklearn.metrics.pairwise import cosine_similarity\n",
        "import nltk\n",
        "from nltk.corpus import stopwords\n",
        "from nltk.tokenize import word_tokenize\n",
        "import string\n",
        "\n",
        "nltk.download('punkt')\n",
        "nltk.download('stopwords')"
      ]
    },
    {
      "cell_type": "markdown",
      "source": [
        "Load data when server on"
      ],
      "metadata": {
        "id": "MNBPN8Q8alD2"
      }
    },
    {
      "cell_type": "code",
      "source": [
        "jobs_df = pd.read_csv(\"/content/drive/MyDrive/JobsDataset.csv\")"
      ],
      "metadata": {
        "id": "sYfPY95k5dhy"
      },
      "execution_count": null,
      "outputs": []
    },
    {
      "cell_type": "code",
      "source": [
        "jobs_df.head()"
      ],
      "metadata": {
        "colab": {
          "base_uri": "https://localhost:8080/",
          "height": 206
        },
        "id": "wdOB56Vv6sPV",
        "outputId": "adfb9502-5bc3-4101-8896-fdc5ccc41837"
      },
      "execution_count": null,
      "outputs": [
        {
          "output_type": "execute_result",
          "data": {
            "text/plain": [
              "   ID           Query                             Job Title  \\\n",
              "0   1  Data Scientist  Junior Data Scientist Apprenticeship   \n",
              "1   2  Data Scientist   HBO Data Scientist, Content Science   \n",
              "2   3  Data Scientist                 Junior Data Scientist   \n",
              "3   4  Data Scientist                     Jr Data Scientist   \n",
              "4   5  Data Scientist       Data Scientist, Premium Content   \n",
              "\n",
              "                                         Description  \n",
              "0  Job Description As a Junior Data Scientist at ...  \n",
              "1  OVERALL SUMMARY As a Data Scientist on the Dat...  \n",
              "2  The Team: The Data science team is a newly for...  \n",
              "3  We now have a need for junior Data Scientist(s...  \n",
              "4  Do you want to help guide the core business of...  "
            ],
            "text/html": [
              "\n",
              "  <div id=\"df-6020e6ea-8bc3-4baf-aa3b-287bda049ecd\" class=\"colab-df-container\">\n",
              "    <div>\n",
              "<style scoped>\n",
              "    .dataframe tbody tr th:only-of-type {\n",
              "        vertical-align: middle;\n",
              "    }\n",
              "\n",
              "    .dataframe tbody tr th {\n",
              "        vertical-align: top;\n",
              "    }\n",
              "\n",
              "    .dataframe thead th {\n",
              "        text-align: right;\n",
              "    }\n",
              "</style>\n",
              "<table border=\"1\" class=\"dataframe\">\n",
              "  <thead>\n",
              "    <tr style=\"text-align: right;\">\n",
              "      <th></th>\n",
              "      <th>ID</th>\n",
              "      <th>Query</th>\n",
              "      <th>Job Title</th>\n",
              "      <th>Description</th>\n",
              "    </tr>\n",
              "  </thead>\n",
              "  <tbody>\n",
              "    <tr>\n",
              "      <th>0</th>\n",
              "      <td>1</td>\n",
              "      <td>Data Scientist</td>\n",
              "      <td>Junior Data Scientist Apprenticeship</td>\n",
              "      <td>Job Description As a Junior Data Scientist at ...</td>\n",
              "    </tr>\n",
              "    <tr>\n",
              "      <th>1</th>\n",
              "      <td>2</td>\n",
              "      <td>Data Scientist</td>\n",
              "      <td>HBO Data Scientist, Content Science</td>\n",
              "      <td>OVERALL SUMMARY As a Data Scientist on the Dat...</td>\n",
              "    </tr>\n",
              "    <tr>\n",
              "      <th>2</th>\n",
              "      <td>3</td>\n",
              "      <td>Data Scientist</td>\n",
              "      <td>Junior Data Scientist</td>\n",
              "      <td>The Team: The Data science team is a newly for...</td>\n",
              "    </tr>\n",
              "    <tr>\n",
              "      <th>3</th>\n",
              "      <td>4</td>\n",
              "      <td>Data Scientist</td>\n",
              "      <td>Jr Data Scientist</td>\n",
              "      <td>We now have a need for junior Data Scientist(s...</td>\n",
              "    </tr>\n",
              "    <tr>\n",
              "      <th>4</th>\n",
              "      <td>5</td>\n",
              "      <td>Data Scientist</td>\n",
              "      <td>Data Scientist, Premium Content</td>\n",
              "      <td>Do you want to help guide the core business of...</td>\n",
              "    </tr>\n",
              "  </tbody>\n",
              "</table>\n",
              "</div>\n",
              "    <div class=\"colab-df-buttons\">\n",
              "\n",
              "  <div class=\"colab-df-container\">\n",
              "    <button class=\"colab-df-convert\" onclick=\"convertToInteractive('df-6020e6ea-8bc3-4baf-aa3b-287bda049ecd')\"\n",
              "            title=\"Convert this dataframe to an interactive table.\"\n",
              "            style=\"display:none;\">\n",
              "\n",
              "  <svg xmlns=\"http://www.w3.org/2000/svg\" height=\"24px\" viewBox=\"0 -960 960 960\">\n",
              "    <path d=\"M120-120v-720h720v720H120Zm60-500h600v-160H180v160Zm220 220h160v-160H400v160Zm0 220h160v-160H400v160ZM180-400h160v-160H180v160Zm440 0h160v-160H620v160ZM180-180h160v-160H180v160Zm440 0h160v-160H620v160Z\"/>\n",
              "  </svg>\n",
              "    </button>\n",
              "\n",
              "  <style>\n",
              "    .colab-df-container {\n",
              "      display:flex;\n",
              "      gap: 12px;\n",
              "    }\n",
              "\n",
              "    .colab-df-convert {\n",
              "      background-color: #E8F0FE;\n",
              "      border: none;\n",
              "      border-radius: 50%;\n",
              "      cursor: pointer;\n",
              "      display: none;\n",
              "      fill: #1967D2;\n",
              "      height: 32px;\n",
              "      padding: 0 0 0 0;\n",
              "      width: 32px;\n",
              "    }\n",
              "\n",
              "    .colab-df-convert:hover {\n",
              "      background-color: #E2EBFA;\n",
              "      box-shadow: 0px 1px 2px rgba(60, 64, 67, 0.3), 0px 1px 3px 1px rgba(60, 64, 67, 0.15);\n",
              "      fill: #174EA6;\n",
              "    }\n",
              "\n",
              "    .colab-df-buttons div {\n",
              "      margin-bottom: 4px;\n",
              "    }\n",
              "\n",
              "    [theme=dark] .colab-df-convert {\n",
              "      background-color: #3B4455;\n",
              "      fill: #D2E3FC;\n",
              "    }\n",
              "\n",
              "    [theme=dark] .colab-df-convert:hover {\n",
              "      background-color: #434B5C;\n",
              "      box-shadow: 0px 1px 3px 1px rgba(0, 0, 0, 0.15);\n",
              "      filter: drop-shadow(0px 1px 2px rgba(0, 0, 0, 0.3));\n",
              "      fill: #FFFFFF;\n",
              "    }\n",
              "  </style>\n",
              "\n",
              "    <script>\n",
              "      const buttonEl =\n",
              "        document.querySelector('#df-6020e6ea-8bc3-4baf-aa3b-287bda049ecd button.colab-df-convert');\n",
              "      buttonEl.style.display =\n",
              "        google.colab.kernel.accessAllowed ? 'block' : 'none';\n",
              "\n",
              "      async function convertToInteractive(key) {\n",
              "        const element = document.querySelector('#df-6020e6ea-8bc3-4baf-aa3b-287bda049ecd');\n",
              "        const dataTable =\n",
              "          await google.colab.kernel.invokeFunction('convertToInteractive',\n",
              "                                                    [key], {});\n",
              "        if (!dataTable) return;\n",
              "\n",
              "        const docLinkHtml = 'Like what you see? Visit the ' +\n",
              "          '<a target=\"_blank\" href=https://colab.research.google.com/notebooks/data_table.ipynb>data table notebook</a>'\n",
              "          + ' to learn more about interactive tables.';\n",
              "        element.innerHTML = '';\n",
              "        dataTable['output_type'] = 'display_data';\n",
              "        await google.colab.output.renderOutput(dataTable, element);\n",
              "        const docLink = document.createElement('div');\n",
              "        docLink.innerHTML = docLinkHtml;\n",
              "        element.appendChild(docLink);\n",
              "      }\n",
              "    </script>\n",
              "  </div>\n",
              "\n",
              "\n",
              "<div id=\"df-c877fd3f-bb50-4cc9-9207-88d238f78c54\">\n",
              "  <button class=\"colab-df-quickchart\" onclick=\"quickchart('df-c877fd3f-bb50-4cc9-9207-88d238f78c54')\"\n",
              "            title=\"Suggest charts\"\n",
              "            style=\"display:none;\">\n",
              "\n",
              "<svg xmlns=\"http://www.w3.org/2000/svg\" height=\"24px\"viewBox=\"0 0 24 24\"\n",
              "     width=\"24px\">\n",
              "    <g>\n",
              "        <path d=\"M19 3H5c-1.1 0-2 .9-2 2v14c0 1.1.9 2 2 2h14c1.1 0 2-.9 2-2V5c0-1.1-.9-2-2-2zM9 17H7v-7h2v7zm4 0h-2V7h2v10zm4 0h-2v-4h2v4z\"/>\n",
              "    </g>\n",
              "</svg>\n",
              "  </button>\n",
              "\n",
              "<style>\n",
              "  .colab-df-quickchart {\n",
              "      --bg-color: #E8F0FE;\n",
              "      --fill-color: #1967D2;\n",
              "      --hover-bg-color: #E2EBFA;\n",
              "      --hover-fill-color: #174EA6;\n",
              "      --disabled-fill-color: #AAA;\n",
              "      --disabled-bg-color: #DDD;\n",
              "  }\n",
              "\n",
              "  [theme=dark] .colab-df-quickchart {\n",
              "      --bg-color: #3B4455;\n",
              "      --fill-color: #D2E3FC;\n",
              "      --hover-bg-color: #434B5C;\n",
              "      --hover-fill-color: #FFFFFF;\n",
              "      --disabled-bg-color: #3B4455;\n",
              "      --disabled-fill-color: #666;\n",
              "  }\n",
              "\n",
              "  .colab-df-quickchart {\n",
              "    background-color: var(--bg-color);\n",
              "    border: none;\n",
              "    border-radius: 50%;\n",
              "    cursor: pointer;\n",
              "    display: none;\n",
              "    fill: var(--fill-color);\n",
              "    height: 32px;\n",
              "    padding: 0;\n",
              "    width: 32px;\n",
              "  }\n",
              "\n",
              "  .colab-df-quickchart:hover {\n",
              "    background-color: var(--hover-bg-color);\n",
              "    box-shadow: 0 1px 2px rgba(60, 64, 67, 0.3), 0 1px 3px 1px rgba(60, 64, 67, 0.15);\n",
              "    fill: var(--button-hover-fill-color);\n",
              "  }\n",
              "\n",
              "  .colab-df-quickchart-complete:disabled,\n",
              "  .colab-df-quickchart-complete:disabled:hover {\n",
              "    background-color: var(--disabled-bg-color);\n",
              "    fill: var(--disabled-fill-color);\n",
              "    box-shadow: none;\n",
              "  }\n",
              "\n",
              "  .colab-df-spinner {\n",
              "    border: 2px solid var(--fill-color);\n",
              "    border-color: transparent;\n",
              "    border-bottom-color: var(--fill-color);\n",
              "    animation:\n",
              "      spin 1s steps(1) infinite;\n",
              "  }\n",
              "\n",
              "  @keyframes spin {\n",
              "    0% {\n",
              "      border-color: transparent;\n",
              "      border-bottom-color: var(--fill-color);\n",
              "      border-left-color: var(--fill-color);\n",
              "    }\n",
              "    20% {\n",
              "      border-color: transparent;\n",
              "      border-left-color: var(--fill-color);\n",
              "      border-top-color: var(--fill-color);\n",
              "    }\n",
              "    30% {\n",
              "      border-color: transparent;\n",
              "      border-left-color: var(--fill-color);\n",
              "      border-top-color: var(--fill-color);\n",
              "      border-right-color: var(--fill-color);\n",
              "    }\n",
              "    40% {\n",
              "      border-color: transparent;\n",
              "      border-right-color: var(--fill-color);\n",
              "      border-top-color: var(--fill-color);\n",
              "    }\n",
              "    60% {\n",
              "      border-color: transparent;\n",
              "      border-right-color: var(--fill-color);\n",
              "    }\n",
              "    80% {\n",
              "      border-color: transparent;\n",
              "      border-right-color: var(--fill-color);\n",
              "      border-bottom-color: var(--fill-color);\n",
              "    }\n",
              "    90% {\n",
              "      border-color: transparent;\n",
              "      border-bottom-color: var(--fill-color);\n",
              "    }\n",
              "  }\n",
              "</style>\n",
              "\n",
              "  <script>\n",
              "    async function quickchart(key) {\n",
              "      const quickchartButtonEl =\n",
              "        document.querySelector('#' + key + ' button');\n",
              "      quickchartButtonEl.disabled = true;  // To prevent multiple clicks.\n",
              "      quickchartButtonEl.classList.add('colab-df-spinner');\n",
              "      try {\n",
              "        const charts = await google.colab.kernel.invokeFunction(\n",
              "            'suggestCharts', [key], {});\n",
              "      } catch (error) {\n",
              "        console.error('Error during call to suggestCharts:', error);\n",
              "      }\n",
              "      quickchartButtonEl.classList.remove('colab-df-spinner');\n",
              "      quickchartButtonEl.classList.add('colab-df-quickchart-complete');\n",
              "    }\n",
              "    (() => {\n",
              "      let quickchartButtonEl =\n",
              "        document.querySelector('#df-c877fd3f-bb50-4cc9-9207-88d238f78c54 button');\n",
              "      quickchartButtonEl.style.display =\n",
              "        google.colab.kernel.accessAllowed ? 'block' : 'none';\n",
              "    })();\n",
              "  </script>\n",
              "</div>\n",
              "    </div>\n",
              "  </div>\n"
            ],
            "application/vnd.google.colaboratory.intrinsic+json": {
              "type": "dataframe",
              "variable_name": "jobs_df",
              "summary": "{\n  \"name\": \"jobs_df\",\n  \"rows\": 10000,\n  \"fields\": [\n    {\n      \"column\": \"ID\",\n      \"properties\": {\n        \"dtype\": \"number\",\n        \"std\": 2886,\n        \"min\": 1,\n        \"max\": 10000,\n        \"num_unique_values\": 10000,\n        \"samples\": [\n          6253,\n          4685,\n          1732\n        ],\n        \"semantic_type\": \"\",\n        \"description\": \"\"\n      }\n    },\n    {\n      \"column\": \"Query\",\n      \"properties\": {\n        \"dtype\": \"category\",\n        \"num_unique_values\": 25,\n        \"samples\": [\n          \"Machine Learning\",\n          \"Technology Integration\",\n          \"Data Scientist\"\n        ],\n        \"semantic_type\": \"\",\n        \"description\": \"\"\n      }\n    },\n    {\n      \"column\": \"Job Title\",\n      \"properties\": {\n        \"dtype\": \"string\",\n        \"num_unique_values\": 7615,\n        \"samples\": [\n          \"Court Clerk II SR\",\n          \"Full Stack Developer\\u221e\",\n          \"Business Analyst 1 or 2\"\n        ],\n        \"semantic_type\": \"\",\n        \"description\": \"\"\n      }\n    },\n    {\n      \"column\": \"Description\",\n      \"properties\": {\n        \"dtype\": \"string\",\n        \"num_unique_values\": 9377,\n        \"samples\": [\n          \"The Database Administrator is a member of RSM\\u2019s technical services group and is responsible for the operational support of Microsoft SQL Database platform. The database administrator will work closely with Senior DBA, IT management and other functional groups to deploy, administer and provide level three support for the company\\u2019s enterprise database systems. He/she must have excellent written and oral communication skills and be able to work, collaborate and coordinate between technical and non-technical people within the company. Essential Duties: Provide troubleshooting support for Microsoft SQL servers. Monitor and manage server health, functionality and availability related to database servers. Install, configure, secure and maintain technical Dev, QA and Production environments. Configure and Integrate 3rd party applications and add-ons. Regular review of event logs and performance monitors through the creation of alerts. Participates in disaster recovery practices. Provides direct support of Microsoft SQL servers, databases and related enterprise applications. Supports internal development, functional technology and project teams on a recurring basis. Monitors and optimizes system performance based on Microsoft best practices. Implements upgrades, enhancements and fixes following established change management procedures. Works with Microsoft Support and other 3rd party vendors in resolution of support issues on as-needed basis. Adheres to technical standards, procedures and techniques for the resolution of enterprise database problems to ensure maximum application availability and performance. Collaborates with other IT technical engineers, developers and Program Management personnel. Participates in scheduled and unscheduled weekend/after-hours system maintenance and support. Performs rotational on-call duty. Other duties as assigned. Education: Post-Secondary degree in Computer Science, Software Engineering, Information Systems or equivalent work history/experience (Required) Experience: Minimum of 3 years of Information Services/Technology experience (Required) Minimum of 1 Year Database Administrator experience with Microsoft SQL or similar relational database (Required) MS SQL Certifications (Preferred) Project Team Involvement (Preferred) Technical Skills: Microsoft Windows Server (Required) Microsoft SQL Server - basic operations to include backup and recovery (Required) Microsoft SQL Server Reporting Services knowledge (Preferred) Microsoft SQL Server Integration Services experience(Preferred) Microsoft PowerShell experience (Preferred) IT Development (.NET, C) experience (Preferred) You want your next step to be the right one. You've worked hard to get where you are today. And now you're ready to use your unique skills, talents and personality to achieve great things. RSM is a place where you are valued as an individual, mentored as a future leader, and recognized for your accomplishments and potential. Working directly with clients, key decision makers and business owners across various industries and geographies, you'll move quickly along the learning curve and our clients will benefit from your fresh perspective. Experience RSM US. Experience the power of being understood. RSM is an equal opportunity/affirmative action employer. Minorities/Females/Disabled/Veterans.\",\n          \"Comcast brings together the best in media and technology. We drive innovation to create the world's best entertainment and online experiences. As a Fortune 50 leader, we set the pace in a variety of innovative and fascinating businesses and create career opportunities across a wide range of locations and disciplines. We are at the forefront of change and move at an amazing pace, thanks to our remarkable people, who bring cutting-edge products and services to life for millions of customers every day. If you share in our passion for teamwork, our vision to revolutionize industries and our goal to lead the future in media and technology, we want you to fast-forward your career at Comcast. Summary: The Senior Analyst is responsible for all data management and analysis for Comcast's Employee Volunteerism and Giving programs for Community Impact. The Senior Analyst is also responsible for program coordination and management, ensuring projects and events are delivered in a timely and budget- conscious manner. The Employee Volunteerism and Giving team manages Comcast's volunteer day of service, Comcast Cares Day, as well as the yearly employee giving campaign. Additionally, the team leads the strategy for year-round volunteerism and engagement, including all programmatic, data, reporting and technology aspects.Responsibilities: - Execute reporting and analytics pertaining to Comcast's volunteer day of service, giving campaign and all other year-round volunteerism and engagement initiatives, touching all of Comcast's employee base- Regular employee data cleanup and structure based on geographic, demographic and other business unit segmentation needs- Key point of contact for volunteer project and campaign coordinators and team leaders throughout the company, providing data trends and recommendations specific to their respective business units- Ability to quickly learn the data and table structure and execute regular (daily in some cases) geographic and demographic trackers- Works on analytical projects, including large sets of data with respect to Comcast's employee volunteerism and giving trends.- Ad hoc reporting based on employee volunteerism and giving trends and historical data at the request of the internal department or external business units- Ability to understand and synthesize data trends and insights to be presented to executive leadership- Ensures accurate and consistent employee data management accounting for year over year changes- Program and event coordination and planning, working closely with multiple stakeholders and partners throughout the company as well as with various community organizations.- Coordination with various third party organizations to ensure a high quality volunteer experience during Comcast Cares Day and other year-round volunteering events.- Ad hoc project coordination and management, specifically including Comcast Cares Day planning- Assist with and/or assume responsibility for special projects as assigned- Other duties and responsibilities as assigned- Consistent exercise of independent judgment and discretionMinimum Requirements: - Bachelor's Degree or equivalent required- Minimum 3-5 years related data analysis experience- Experience in corporate finance, business intelligence, Human Resources or operations role with tracking, reporting and analysis experience- Experience or passion for the volunteerism, community impact, and/or corporate social responsibility space- Ability to analyze data and shape and synthesize the story behind that data- Proficient in Microsoft Office software- Advanced Excel skills including but not limited to vlookups, pivot tables, transposing, counifs, etc.- Familiarity with SQL and Tableau data visualization preferred- Familiarity with HR employee systems and databases is a plus- Strong project management and coordination skills, with ideal experience in volunteer project management and employee engagement- Ability to manage multiple volunteer projects at the same time, delivering the project goals on time and within the allocated budget- Ability to interface with all levels of management- Excellent organizational skills and attention to detail- Excellent oral and written communication skills- Regular, consistent and punctual attendance. Must be able to work nights and weekends, variable schedule(s) as necessary. Comcast is an EOE/Veterans/Disabled/LGBT employer\",\n          \"The Sr. Business Analyst is responsible for driving revenue growth through the identification of opportunities and risks. The Sr. Business Analyst will work to understand the business strategy and numerous underlying operational processes so that they can provide analytical reporting that drives sales representative behavior and results in customer retention and product upsells. To be effective in this role, the Sr. Business Analyst will need to partner and coordinate efforts with Sales Management and will work closely with the Customer Intelligence lead in communicating results with others throughout the leadership levels of each business unit. The individual will need to be able to bridge topics in order to effectively communicate with technical resources in several teams. The position will require expertise in enterprise data to support accurate and meaningful analyses. Technical skills will also be heavily leveraged as new datasets are profiled and documented and as data is retrieved and analyzed from the data warehouse. Analytical reporting and statistical analysis will be delivered through Oracle Business Intelligence and Excel. The Sr. Business Analyst is responsible for effectively rolling out Oracle Business Intelligence and in ensuring weekly adoption and usage are at levels established by each respective business unit or user group. On an ongoing basis, the Sr. Business Analyst will need to review usage levels and identify areas where adoption can be improved and analytical reporting that needs to be revised. The Sr. Business Analyst will need to be well connected to their user base (usually more than 100 individuals) and understand their goals so that analytical reporting is provided in the most meaningful context. Responsibilities may include: Collaborate with various groups to develop dashboard reports containing key metrics. Ensure that dashboards are clearly understood, utilized, and integrated into the decisions made by the business units. This will include dedicated rollout of Oracle Business Intelligence and support of several segments of individuals. Performs regular QA (testing/validation) on dashboards Identify data and metrics that help to predict retention issues and upsell opportunities. Proactively identify additional metrics and trends that are helpful in informing business decisions. Research, review, assimilates, and perform data and statistical analysis on data from various sources. Partner with data warehouse and Oracle Business Intelligence teams to implement reporting improvements through managed projects (data and/or technology changes). Collaborate with business clients primarily using 1x1 interviews, facilitate small group sessions and/or larger JAD sessions as appropriate. Use group facilitation techniques to drive consensus. Identify improvements to providing user support. Improvements could be related to data or the technology used to track and manage report requests. Identify opportunities to measure (quantitatively and qualitatively) and report the teams financial impact on the organization. Ensure weekly adoption of OBI is at or above target levels set for each user base. Establish training program(s) to drive adoption and utilization. All other duties as assigned. Qualifications: 5-7 years experience required. BA/BS degree or equivalent experience. Understanding of organizational operating procedures (value chain) Detailed understanding of enterprise data (sources, definitions, keys, etc.). Understanding of LN Risk Solution Product portfolio and various internal operating processes (onboarding, marketing lead creation, order submission, etc.). Proficient skills in report writing and dashboard creation within Oracle Business Intelligence Proficient SQL skills Excellent ability to work independently Excellent User Interface (UI) design experience Exceptional analytical and quantitative skills Outstanding verbal and written communication skills particularly with senior leadership Excellent ability to listen and understand business needs in order to gather reporting requirements and provide relevant reports Strong business acumen; must see big picture from strategy standpoint Strong organizational skills Exception attention to detail Microsoft office suite At LexisNexis Risk Solutions, we believe in the power of data and advanced analytics for better risk management. With over 40 years of expertise, we are the trusted data analytics provider for organizations seeking actionable insights to manage risks and improve results while upholding the highest standards for security and privacy. Headquartered in metro Atlanta, LexisNexis Risk Solutions serves customers in more than 100 countries and is part of RELX Group plc, a world-leading provider of information and analytics for professional and business customers across industries. For more information, please visit www.lexisnexisrisk.com. LexisNexis Risk Solutions is an equal opportunity employer: qualified applicants are considered for and treated during employment without regard to race, color, creed, religion, sex, national origin, citizenship status, disability status, protected veteran status, age, marital status, sexual orientation, gender identity, genetic information, or any other characteristic protected by law. If a qualified individual with a disability or disabled veteran needs a reasonable accommodation to use or access our online system, that individual should please contact 1.877.734.1938 or accommodations@relx.com.\"\n        ],\n        \"semantic_type\": \"\",\n        \"description\": \"\"\n      }\n    }\n  ]\n}"
            }
          },
          "metadata": {},
          "execution_count": 20
        }
      ]
    },
    {
      "cell_type": "code",
      "source": [
        "def preprocess_text(text):\n",
        "    stop_words = set(stopwords.words('english'))\n",
        "    words = word_tokenize(text)\n",
        "    words = [word.lower() for word in words if word.isalnum()]  # Remove punctuation and lowercase\n",
        "    words = [word for word in words if word not in stop_words]  # Remove stop words\n",
        "    return ' '.join(words)"
      ],
      "metadata": {
        "id": "vXlOuQqpX51P"
      },
      "execution_count": null,
      "outputs": []
    },
    {
      "cell_type": "code",
      "source": [
        "jobs_df['Description'] = jobs_df['Description'].fillna('')\n",
        "jobs_df['Description'] = jobs_df['Description'].apply(preprocess_text)"
      ],
      "metadata": {
        "id": "wJF4ADtKYAHx"
      },
      "execution_count": null,
      "outputs": []
    },
    {
      "cell_type": "markdown",
      "source": [
        "Request By User"
      ],
      "metadata": {
        "id": "w9oPklBNZOoz"
      }
    },
    {
      "cell_type": "code",
      "source": [
        "input = 'React, Vue, Javascript'\n",
        "input = preprocess_text(input)"
      ],
      "metadata": {
        "id": "Rn0gHnN2YJrg"
      },
      "execution_count": null,
      "outputs": []
    },
    {
      "cell_type": "code",
      "source": [
        "corpus = jobs_df['Description'].tolist()\n",
        "corpus.append(input)"
      ],
      "metadata": {
        "id": "ezUyurZWYNeP"
      },
      "execution_count": null,
      "outputs": []
    },
    {
      "cell_type": "code",
      "source": [
        "from sklearn.feature_extraction.text import TfidfVectorizer\n",
        "\n",
        "vectorizer = TfidfVectorizer(\n",
        "    min_df=3,\n",
        "    max_features=None,\n",
        "    strip_accents='unicode',\n",
        "    analyzer='word',\n",
        "    token_pattern=r'\\w{1,}',\n",
        "    ngram_range=(1,3),\n",
        "    stop_words='english'\n",
        ")\n",
        "\n",
        "tfidf_matrix = vectorizer.fit_transform(corpus)"
      ],
      "metadata": {
        "id": "mcvg2XN370Uh"
      },
      "execution_count": null,
      "outputs": []
    },
    {
      "cell_type": "code",
      "source": [
        "cosine_sim = cosine_similarity(tfidf_matrix[-1], tfidf_matrix[:-1])"
      ],
      "metadata": {
        "id": "pqHEFGrZYbFf"
      },
      "execution_count": null,
      "outputs": []
    },
    {
      "cell_type": "code",
      "source": [
        "jobs_df['Similarity'] = cosine_sim[0]\n",
        "recommended_jobs = jobs_df.sort_values(by='Similarity', ascending=False)"
      ],
      "metadata": {
        "id": "UmFF8v8UYr7J"
      },
      "execution_count": null,
      "outputs": []
    },
    {
      "cell_type": "code",
      "source": [
        "print(recommended_jobs['Job Title'].head(10))"
      ],
      "metadata": {
        "colab": {
          "base_uri": "https://localhost:8080/"
        },
        "id": "-_FH7wvsY1VA",
        "outputId": "6b6497e2-1d2c-4e2d-c509-186a63c5d17e"
      },
      "execution_count": null,
      "outputs": [
        {
          "output_type": "stream",
          "name": "stdout",
          "text": [
            "8708                       Web Developer, Full Stack\n",
            "8713                        Full Stack Web Developer\n",
            "8342                 Senior Software Developer - Web\n",
            "9065                Software Engineer - React Native\n",
            "8564                        Junior Software Engineer\n",
            "9054                             Full Stack Engineer\n",
            "8773                            Full Stack Developer\n",
            "8770                            Full Stack Developer\n",
            "8752     Full Stack Ruby on Rails Software Developer\n",
            "9049                 Sr. Full Stack Engineer - React\n",
            "Name: Job Title, dtype: object\n"
          ]
        }
      ]
    }
  ]
}